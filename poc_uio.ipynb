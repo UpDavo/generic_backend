{
 "cells": [
  {
   "cell_type": "code",
   "execution_count": 268,
   "metadata": {},
   "outputs": [
    {
     "name": "stderr",
     "output_type": "stream",
     "text": [
      "/home/updavo/APPS/generic_backend/venv/lib/python3.10/site-packages/tqdm/auto.py:21: TqdmWarning: IProgress not found. Please update jupyter and ipywidgets. See https://ipywidgets.readthedocs.io/en/stable/user_install.html\n",
      "  from .autonotebook import tqdm as notebook_tqdm\n"
     ]
    }
   ],
   "source": [
    "import re\n",
    "import pandas as pd\n",
    "from datetime import datetime\n",
    "from transformers import pipeline\n",
    "import matplotlib.pyplot as plt"
   ]
  },
  {
   "cell_type": "code",
   "execution_count": 269,
   "metadata": {},
   "outputs": [],
   "source": [
    "POC_NAME = \"+593 96 239 8472\""
   ]
  },
  {
   "cell_type": "code",
   "execution_count": 270,
   "metadata": {},
   "outputs": [],
   "source": [
    "ruta_archivo = './chats/uio.txt'"
   ]
  },
  {
   "cell_type": "code",
   "execution_count": 271,
   "metadata": {},
   "outputs": [],
   "source": [
    "patron_linea = re.compile(\n",
    "    r'^(\\d{1,2}/\\d{1,2}/\\d{4}), (\\d{1,2}:\\d{2}) - (.*?): (.*)$'\n",
    ")"
   ]
  },
  {
   "cell_type": "code",
   "execution_count": 272,
   "metadata": {},
   "outputs": [],
   "source": [
    "datos = []\n",
    "ultima_fecha = None\n",
    "ultima_hora = None\n",
    "ultima_persona = None\n",
    "ultimo_mensaje = []"
   ]
  },
  {
   "cell_type": "code",
   "execution_count": 273,
   "metadata": {},
   "outputs": [],
   "source": [
    "with open(ruta_archivo, 'r', encoding='utf-8') as f:\n",
    "    for linea in f:\n",
    "        linea = linea.strip()\n",
    "\n",
    "        match = patron_linea.match(linea)\n",
    "        if match:\n",
    "            # Si hay un mensaje anterior sin cerrar, lo guardamos\n",
    "            if ultima_fecha and ultima_persona is not None:\n",
    "                datos.append([\n",
    "                    ultima_fecha,\n",
    "                    ultima_hora,\n",
    "                    ultima_persona,\n",
    "                    \"\\n\".join(ultimo_mensaje)\n",
    "                ])\n",
    "\n",
    "            # Extraemos datos de la nueva línea\n",
    "            fecha_str = match.group(1)  # \"DD/MM/YYYY\"\n",
    "            hora_str = match.group(2)  # \"HH:MM\"\n",
    "            persona = match.group(3)\n",
    "            mensaje = match.group(4)\n",
    "\n",
    "            # Convertimos a datetime\n",
    "            try:\n",
    "                fecha_hora = datetime.strptime(\n",
    "                    f\"{fecha_str} {hora_str}\",\n",
    "                    \"%d/%m/%Y %H:%M\"\n",
    "                )\n",
    "            except ValueError:\n",
    "                # Si falla el parseo, podemos ignorar la línea o manejarla\n",
    "                continue\n",
    "\n",
    "            # Guardamos temporalmente para multiline\n",
    "            ultima_fecha = fecha_hora.date()\n",
    "            ultima_hora = fecha_hora.time()\n",
    "            ultima_persona = persona\n",
    "            ultimo_mensaje = [mensaje]\n",
    "\n",
    "        else:\n",
    "            # Es la continuación (siguiente línea) del mensaje anterior\n",
    "            if ultima_persona is not None:\n",
    "                ultimo_mensaje.append(linea)\n",
    "\n",
    "# Agregamos el último mensaje si quedó pendiente\n",
    "if ultima_fecha and ultima_persona is not None:\n",
    "    datos.append([\n",
    "        ultima_fecha,\n",
    "        ultima_hora,\n",
    "        ultima_persona,\n",
    "        \"\\n\".join(ultimo_mensaje)\n",
    "    ])"
   ]
  },
  {
   "cell_type": "code",
   "execution_count": 274,
   "metadata": {},
   "outputs": [],
   "source": [
    "# ==========================================================================\n",
    "# 2. Construir DataFrame completo de todos los chats\n",
    "# ==========================================================================\n",
    "df_chats = pd.DataFrame(datos, columns=['Fecha', 'Hora', 'Persona', 'Mensaje'])\n",
    "\n",
    "# Creamos una columna de tipo datetime completa\n",
    "df_chats['FechaHora'] = df_chats.apply(\n",
    "    lambda x: datetime.combine(x['Fecha'], x['Hora']), axis=1\n",
    ")\n",
    "\n",
    "# Ordenamos el DataFrame por fecha-hora por si no viniese ordenado\n",
    "df_chats.sort_values(by='FechaHora', inplace=True, ignore_index=True)"
   ]
  },
  {
   "cell_type": "code",
   "execution_count": 275,
   "metadata": {},
   "outputs": [],
   "source": [
    "# ==========================================================================\n",
    "# 3. DataFrame con integrantes únicos (df_integrantes)\n",
    "# ==========================================================================\n",
    "integrantes_unicos = df_chats['Persona'].unique().tolist()\n",
    "df_integrantes = pd.DataFrame({'Integrante': integrantes_unicos})"
   ]
  },
  {
   "cell_type": "code",
   "execution_count": 276,
   "metadata": {},
   "outputs": [],
   "source": [
    "# ==========================================================================\n",
    "# 4. Identificación de asesores\n",
    "# ==========================================================================\n",
    "# Paso 1: Detectar usuarios que enviaron la frase clave\n",
    "asesores = df_chats[df_chats['Mensaje'].str.contains(\n",
    "    \"Me pongo a sus órdenes\", case=False, na=False\n",
    ")]['Persona'].unique()\n",
    "\n",
    "# Paso 2: Crear una nueva columna `EsAsesor`\n",
    "df_chats['EsAsesor'] = df_chats['Persona'].isin(asesores)"
   ]
  },
  {
   "cell_type": "code",
   "execution_count": 277,
   "metadata": {},
   "outputs": [],
   "source": [
    "# ==========================================================================\n",
    "# 5. DataFrame con chats filtrados (df_chats_filtrados)\n",
    "#    Reglas:\n",
    "#      - Incluir tienda.\n",
    "#      - Incluir asesores en todos sus mensajes.\n",
    "#      - Excluir el resto.\n",
    "# ==========================================================================\n",
    "def es_tienda(row):\n",
    "    return POC_NAME in row['Persona'].upper()\n",
    "\n",
    "# Función para reemplazar el nombre si es tienda\n",
    "\n",
    "\n",
    "def cambiar_nombre_tienda(row):\n",
    "    return \"TIENDA\" if POC_NAME in row['Persona'].upper() else row['Persona']\n",
    "\n",
    "\n",
    "# Filtro de tienda o asesores\n",
    "df_chats_filtrados = df_chats[df_chats.apply(\n",
    "    lambda x: es_tienda(x) or x['EsAsesor'], axis=1\n",
    ")].copy()\n",
    "\n",
    "df_chats_filtrados['Persona'] = df_chats_filtrados.apply(\n",
    "    cambiar_nombre_tienda, axis=1)\n",
    "\n",
    "# ==========================================================================\n",
    "# 6. Eliminar filas con \"Multimedia omitido\"\n",
    "# ==========================================================================\n",
    "df_chats_filtrados = df_chats_filtrados[df_chats_filtrados['Mensaje']\n",
    "                                        != \"<Multimedia omitido>\"].copy()\n",
    "\n",
    "# ==========================================================================\n",
    "# 7. Eliminar filas que contengan \"Me pongo a sus órdenes\"\n",
    "# ==========================================================================\n",
    "# df_chats_filtrados = df_chats_filtrados[\n",
    "#     ~df_chats_filtrados['Mensaje'].str.contains(\n",
    "#         \"Me pongo a sus órdenes\", case=False, na=False)\n",
    "# ].copy()\n",
    "\n",
    "# df_chats_filtrados = df_chats_filtrados[\n",
    "#     ~df_chats_filtrados['Mensaje'].str.contains(\n",
    "#         \"estoy para apoyarlos\", case=False, na=False)\n",
    "# ].copy()\n"
   ]
  },
  {
   "cell_type": "code",
   "execution_count": 278,
   "metadata": {},
   "outputs": [
    {
     "name": "stdout",
     "output_type": "stream",
     "text": [
      "\n",
      "=== DataFrame con chats FILTRADOS ===\n"
     ]
    },
    {
     "data": {
      "text/html": [
       "<div>\n",
       "<style scoped>\n",
       "    .dataframe tbody tr th:only-of-type {\n",
       "        vertical-align: middle;\n",
       "    }\n",
       "\n",
       "    .dataframe tbody tr th {\n",
       "        vertical-align: top;\n",
       "    }\n",
       "\n",
       "    .dataframe thead th {\n",
       "        text-align: right;\n",
       "    }\n",
       "</style>\n",
       "<table border=\"1\" class=\"dataframe\">\n",
       "  <thead>\n",
       "    <tr style=\"text-align: right;\">\n",
       "      <th></th>\n",
       "      <th>Fecha</th>\n",
       "      <th>Hora</th>\n",
       "      <th>Persona</th>\n",
       "      <th>Mensaje</th>\n",
       "      <th>FechaHora</th>\n",
       "      <th>EsAsesor</th>\n",
       "    </tr>\n",
       "  </thead>\n",
       "  <tbody>\n",
       "    <tr>\n",
       "      <th>0</th>\n",
       "      <td>2024-04-22</td>\n",
       "      <td>15:27:00</td>\n",
       "      <td>Ulises Hernandez Cxc</td>\n",
       "      <td>Hola, bonito día  Team, soy Ulises\\nMe pongo a...</td>\n",
       "      <td>2024-04-22 15:27:00</td>\n",
       "      <td>True</td>\n",
       "    </tr>\n",
       "    <tr>\n",
       "      <th>1</th>\n",
       "      <td>2024-04-23</td>\n",
       "      <td>10:23:00</td>\n",
       "      <td>+52 449 581 7854</td>\n",
       "      <td>Team buen día, Soy Paulina.\\nMe pongo a sus ór...</td>\n",
       "      <td>2024-04-23 10:23:00</td>\n",
       "      <td>True</td>\n",
       "    </tr>\n",
       "    <tr>\n",
       "      <th>2</th>\n",
       "      <td>2024-04-23</td>\n",
       "      <td>15:30:00</td>\n",
       "      <td>Jocelyne Tada Cxc</td>\n",
       "      <td>Hola, bonito día  Team, soy Jocelyne\\nMe pongo...</td>\n",
       "      <td>2024-04-23 15:30:00</td>\n",
       "      <td>True</td>\n",
       "    </tr>\n",
       "    <tr>\n",
       "      <th>16</th>\n",
       "      <td>2024-04-24</td>\n",
       "      <td>09:39:00</td>\n",
       "      <td>Jocelyne Tada Cxc</td>\n",
       "      <td>Hola, bonito día  Team, soy Jocelyne\\nMe pongo...</td>\n",
       "      <td>2024-04-24 09:39:00</td>\n",
       "      <td>True</td>\n",
       "    </tr>\n",
       "  </tbody>\n",
       "</table>\n",
       "</div>"
      ],
      "text/plain": [
       "         Fecha      Hora               Persona  \\\n",
       "0   2024-04-22  15:27:00  Ulises Hernandez Cxc   \n",
       "1   2024-04-23  10:23:00      +52 449 581 7854   \n",
       "2   2024-04-23  15:30:00     Jocelyne Tada Cxc   \n",
       "16  2024-04-24  09:39:00     Jocelyne Tada Cxc   \n",
       "\n",
       "                                              Mensaje           FechaHora  \\\n",
       "0   Hola, bonito día  Team, soy Ulises\\nMe pongo a... 2024-04-22 15:27:00   \n",
       "1   Team buen día, Soy Paulina.\\nMe pongo a sus ór... 2024-04-23 10:23:00   \n",
       "2   Hola, bonito día  Team, soy Jocelyne\\nMe pongo... 2024-04-23 15:30:00   \n",
       "16  Hola, bonito día  Team, soy Jocelyne\\nMe pongo... 2024-04-24 09:39:00   \n",
       "\n",
       "    EsAsesor  \n",
       "0       True  \n",
       "1       True  \n",
       "2       True  \n",
       "16      True  "
      ]
     },
     "execution_count": 278,
     "metadata": {},
     "output_type": "execute_result"
    }
   ],
   "source": [
    "print(\"\\n=== DataFrame con chats FILTRADOS ===\")\n",
    "df_chats_filtrados.head(4)"
   ]
  },
  {
   "cell_type": "markdown",
   "metadata": {},
   "source": [
    "# Analisis\n"
   ]
  },
  {
   "cell_type": "code",
   "execution_count": 279,
   "metadata": {},
   "outputs": [],
   "source": [
    "fecha_inicio = \"2025-01-01\"\n",
    "fecha_fin = \"2025-01-31\"\n",
    "\n",
    "df_chats_filtrados = df_chats_filtrados[\n",
    "    (df_chats_filtrados['FechaHora'] >= fecha_inicio) &\n",
    "    (df_chats_filtrados['FechaHora'] <= fecha_fin)\n",
    "]"
   ]
  },
  {
   "cell_type": "code",
   "execution_count": 280,
   "metadata": {},
   "outputs": [],
   "source": [
    "# 1) Ordenamos por fecha-hora por si acaso (ya lo hacías, pero aseguramos aquí)\n",
    "df_chats_filtrados.sort_values(by='FechaHora', inplace=True, ignore_index=True)"
   ]
  },
  {
   "cell_type": "code",
   "execution_count": 281,
   "metadata": {},
   "outputs": [],
   "source": [
    "# 2) “Desplazamos” (shift) para ver el mensaje siguiente\n",
    "df_chats_filtrados['NextPersona'] = df_chats_filtrados['Persona'].shift(-1)\n",
    "df_chats_filtrados['NextFechaHora'] = df_chats_filtrados['FechaHora'].shift(-1)\n",
    "df_chats_filtrados['NextMensaje'] = df_chats_filtrados['Mensaje'].shift(-1)"
   ]
  },
  {
   "cell_type": "code",
   "execution_count": 282,
   "metadata": {},
   "outputs": [],
   "source": [
    "# 3) Filtramos solo los casos:\n",
    "#    - el mensaje actual es de Asesor\n",
    "#    - el siguiente mensaje es de la Tienda\n",
    "mask_asesor_tienda = (\n",
    "    (df_chats_filtrados['EsAsesor'] == True) &\n",
    "    (df_chats_filtrados['NextPersona'].str.upper(\n",
    "    ).str.contains(\"TIENDA\"))\n",
    ")\n",
    "\n",
    "df_respuestas = df_chats_filtrados[mask_asesor_tienda].copy()"
   ]
  },
  {
   "cell_type": "code",
   "execution_count": 283,
   "metadata": {},
   "outputs": [],
   "source": [
    "# 4) Calculamos la diferencia de tiempo en minutos\n",
    "df_respuestas['TiempoRespuestaMin'] = (\n",
    "    df_respuestas['NextFechaHora'] - df_respuestas['FechaHora']\n",
    ").dt.total_seconds() / 60.0"
   ]
  },
  {
   "cell_type": "code",
   "execution_count": 284,
   "metadata": {},
   "outputs": [],
   "source": [
    "# 5) Definimos una función para puntuar de 0 a 100\n",
    "def calcular_puntaje(minutos):\n",
    "    \"\"\"\n",
    "    Ejemplo de escala de tiempos:\n",
    "      - < 5 min => 100\n",
    "      - < 15 min => 80\n",
    "      - < 30 min => 50\n",
    "      - < 60 min => 30\n",
    "      - >= 60 min => 0\n",
    "    \"\"\"\n",
    "    if minutos < 5:\n",
    "        return 100\n",
    "    elif minutos < 15:\n",
    "        return 80\n",
    "    elif minutos < 30:\n",
    "        return 50\n",
    "    elif minutos < 60:\n",
    "        return 30\n",
    "    else:\n",
    "        return 0\n",
    "\n",
    "\n",
    "df_respuestas['Puntaje'] = df_respuestas['TiempoRespuestaMin'].apply(\n",
    "    calcular_puntaje)"
   ]
  },
  {
   "cell_type": "code",
   "execution_count": 285,
   "metadata": {},
   "outputs": [
    {
     "data": {
      "text/html": [
       "<div>\n",
       "<style scoped>\n",
       "    .dataframe tbody tr th:only-of-type {\n",
       "        vertical-align: middle;\n",
       "    }\n",
       "\n",
       "    .dataframe tbody tr th {\n",
       "        vertical-align: top;\n",
       "    }\n",
       "\n",
       "    .dataframe thead th {\n",
       "        text-align: right;\n",
       "    }\n",
       "</style>\n",
       "<table border=\"1\" class=\"dataframe\">\n",
       "  <thead>\n",
       "    <tr style=\"text-align: right;\">\n",
       "      <th></th>\n",
       "      <th>Fecha</th>\n",
       "      <th>Hora</th>\n",
       "      <th>Persona</th>\n",
       "      <th>Mensaje</th>\n",
       "      <th>FechaHora</th>\n",
       "      <th>EsAsesor</th>\n",
       "      <th>NextPersona</th>\n",
       "      <th>NextFechaHora</th>\n",
       "      <th>NextMensaje</th>\n",
       "      <th>TiempoRespuestaMin</th>\n",
       "      <th>Puntaje</th>\n",
       "    </tr>\n",
       "  </thead>\n",
       "  <tbody>\n",
       "    <tr>\n",
       "      <th>2</th>\n",
       "      <td>2025-01-01</td>\n",
       "      <td>12:32:00</td>\n",
       "      <td>Ulises Hernandez Cxc</td>\n",
       "      <td>Me confirman cuantos motorízados tienen el día...</td>\n",
       "      <td>2025-01-01 12:32:00</td>\n",
       "      <td>True</td>\n",
       "      <td>TIENDA</td>\n",
       "      <td>2025-01-01 13:04:00</td>\n",
       "      <td>GFUFA56U1 el cliente cancela el pedido porq la...</td>\n",
       "      <td>32.0</td>\n",
       "      <td>30</td>\n",
       "    </tr>\n",
       "    <tr>\n",
       "      <th>4</th>\n",
       "      <td>2025-01-01</td>\n",
       "      <td>13:06:00</td>\n",
       "      <td>Ulises Hernandez Cxc</td>\n",
       "      <td>Ok</td>\n",
       "      <td>2025-01-01 13:06:00</td>\n",
       "      <td>True</td>\n",
       "      <td>TIENDA</td>\n",
       "      <td>2025-01-01 15:35:00</td>\n",
       "      <td>Glenda\\n+593990413187</td>\n",
       "      <td>149.0</td>\n",
       "      <td>0</td>\n",
       "    </tr>\n",
       "    <tr>\n",
       "      <th>9</th>\n",
       "      <td>2025-01-01</td>\n",
       "      <td>15:37:00</td>\n",
       "      <td>Ulises Hernandez Cxc</td>\n",
       "      <td>Ok</td>\n",
       "      <td>2025-01-01 15:37:00</td>\n",
       "      <td>True</td>\n",
       "      <td>TIENDA</td>\n",
       "      <td>2025-01-01 15:37:00</td>\n",
       "      <td>MUCHAS GRACIAS</td>\n",
       "      <td>0.0</td>\n",
       "      <td>100</td>\n",
       "    </tr>\n",
       "    <tr>\n",
       "      <th>11</th>\n",
       "      <td>2025-01-02</td>\n",
       "      <td>08:02:00</td>\n",
       "      <td>Erick Cxc Heimdal</td>\n",
       "      <td>Hola, Team soy Erick estoy para apoyarlos desd...</td>\n",
       "      <td>2025-01-02 08:02:00</td>\n",
       "      <td>True</td>\n",
       "      <td>TIENDA</td>\n",
       "      <td>2025-01-02 13:16:00</td>\n",
       "      <td>Pedido por\\nMiguel\\n+593982430380</td>\n",
       "      <td>314.0</td>\n",
       "      <td>0</td>\n",
       "    </tr>\n",
       "  </tbody>\n",
       "</table>\n",
       "</div>"
      ],
      "text/plain": [
       "         Fecha      Hora               Persona  \\\n",
       "2   2025-01-01  12:32:00  Ulises Hernandez Cxc   \n",
       "4   2025-01-01  13:06:00  Ulises Hernandez Cxc   \n",
       "9   2025-01-01  15:37:00  Ulises Hernandez Cxc   \n",
       "11  2025-01-02  08:02:00     Erick Cxc Heimdal   \n",
       "\n",
       "                                              Mensaje           FechaHora  \\\n",
       "2   Me confirman cuantos motorízados tienen el día... 2025-01-01 12:32:00   \n",
       "4                                                  Ok 2025-01-01 13:06:00   \n",
       "9                                                  Ok 2025-01-01 15:37:00   \n",
       "11  Hola, Team soy Erick estoy para apoyarlos desd... 2025-01-02 08:02:00   \n",
       "\n",
       "    EsAsesor NextPersona       NextFechaHora  \\\n",
       "2       True      TIENDA 2025-01-01 13:04:00   \n",
       "4       True      TIENDA 2025-01-01 15:35:00   \n",
       "9       True      TIENDA 2025-01-01 15:37:00   \n",
       "11      True      TIENDA 2025-01-02 13:16:00   \n",
       "\n",
       "                                          NextMensaje  TiempoRespuestaMin  \\\n",
       "2   GFUFA56U1 el cliente cancela el pedido porq la...                32.0   \n",
       "4                               Glenda\\n+593990413187               149.0   \n",
       "9                                      MUCHAS GRACIAS                 0.0   \n",
       "11                  Pedido por\\nMiguel\\n+593982430380               314.0   \n",
       "\n",
       "    Puntaje  \n",
       "2        30  \n",
       "4         0  \n",
       "9       100  \n",
       "11        0  "
      ]
     },
     "execution_count": 285,
     "metadata": {},
     "output_type": "execute_result"
    }
   ],
   "source": [
    "df_respuestas.head(4)"
   ]
  },
  {
   "cell_type": "code",
   "execution_count": 286,
   "metadata": {},
   "outputs": [],
   "source": [
    "def formatear_tiempo_en_horas_minutos(minutos):\n",
    "    \"\"\"\n",
    "    Convierte un valor de 'minutos' (float o int) al formato 'Hh:Mm'.\n",
    "    Ejemplo: 90.0 -> '1h:30m'\n",
    "    \"\"\"\n",
    "    # Para manejar correctamente decimales, convertimos a segundos\n",
    "    total_segundos = int(minutos * 60)\n",
    "    horas = total_segundos // 3600\n",
    "    sobrante_segundos = total_segundos % 3600\n",
    "    mins = sobrante_segundos // 60\n",
    "\n",
    "    return f\"{horas}h:{mins}m\""
   ]
  },
  {
   "cell_type": "code",
   "execution_count": 287,
   "metadata": {},
   "outputs": [
    {
     "name": "stdout",
     "output_type": "stream",
     "text": [
      "Tiempo de respuesta promedio: 1h:19m\n",
      "Tiempo mensual consumido por falta de apoyo: 15.1%\n",
      "Puntaje promedio: 56.87\n"
     ]
    }
   ],
   "source": [
    "# Ejemplo de datos calculados (suponiendo df_respuestas ya construido)\n",
    "tiempo_promedio = df_respuestas['TiempoRespuestaMin'].mean()  # float (en min)\n",
    "tiempo_total = df_respuestas['TiempoRespuestaMin'].sum()      # float (en min)\n",
    "puntaje_promedio = df_respuestas['Puntaje'].mean()            # float (0-100)\n",
    "\n",
    "# Formateo\n",
    "print(\"Tiempo de respuesta promedio:\",\n",
    "      formatear_tiempo_en_horas_minutos(tiempo_promedio))\n",
    "print(\"Tiempo mensual consumido por falta de apoyo:\",\n",
    "      f\"{round((tiempo_total/43800)*100, 2)}%\")\n",
    "print(\"Puntaje promedio:\", round(puntaje_promedio, 2))"
   ]
  },
  {
   "cell_type": "markdown",
   "metadata": {},
   "source": [
    "# Sentimiento"
   ]
  },
  {
   "cell_type": "code",
   "execution_count": 288,
   "metadata": {},
   "outputs": [
    {
     "name": "stderr",
     "output_type": "stream",
     "text": [
      "Device set to use cpu\n"
     ]
    }
   ],
   "source": [
    "# Cargar el modelo de análisis de sentimiento en español (multilingüe)\n",
    "modelo_sentimiento = pipeline(\"sentiment-analysis\", model=\"nlptown/bert-base-multilingual-uncased-sentiment\")"
   ]
  },
  {
   "cell_type": "code",
   "execution_count": 289,
   "metadata": {},
   "outputs": [],
   "source": [
    "\n",
    "# Función para clasificar el tono del mensaje\n",
    "def analizar_sentimiento(texto):\n",
    "    \"\"\"\n",
    "    Analiza el sentimiento de la respuesta de la tienda y devuelve una etiqueta textual.\n",
    "    \"\"\"\n",
    "    if not isinstance(texto, str) or not texto.strip():\n",
    "        return \"Neutral\"  # Si el mensaje está vacío\n",
    "\n",
    "    resultado = modelo_sentimiento(texto)[0]  # Obtener resultado del modelo\n",
    "    estrellas = int(resultado['label'][0])  # Extraer la cantidad de estrellas (1-5)\n",
    "\n",
    "    # Convertimos la cantidad de estrellas a etiquetas de sentimiento\n",
    "    if estrellas == 1:\n",
    "        return \"Muy Negativo\"\n",
    "    elif estrellas == 2:\n",
    "        return \"Negativo\"\n",
    "    elif estrellas == 3:\n",
    "        return \"Neutral\"\n",
    "    elif estrellas == 4:\n",
    "        return \"Positivo\"\n",
    "    elif estrellas == 5:\n",
    "        return \"Muy Positivo\""
   ]
  },
  {
   "cell_type": "code",
   "execution_count": 290,
   "metadata": {},
   "outputs": [
    {
     "name": "stdout",
     "output_type": "stream",
     "text": [
      "                                              Mensaje   Sentimiento\n",
      "2   Me confirman cuantos motorízados tienen el día...  Muy Positivo\n",
      "4                                                  Ok       Neutral\n",
      "9                                                  Ok       Neutral\n",
      "11  Hola, Team soy Erick estoy para apoyarlos desd...  Muy Positivo\n",
      "25     Motivo de la cancelación: Dirección incorrecta  Muy Negativo\n",
      "31            Listo equipo, ya me confirmo el cliente      Positivo\n",
      "36                                                 Ok       Neutral\n",
      "39  |Hola, bonito día  Team, soy Ulises\\nMe pongo ...  Muy Positivo\n",
      "47  para poder mandar push es necesario mande la i...       Neutral\n",
      "51                                       Push Enviado  Muy Positivo\n"
     ]
    }
   ],
   "source": [
    "# Aplicar la función a la columna 'Mensaje' del DataFrame df_respuestas\n",
    "df_respuestas['Sentimiento'] = df_respuestas['Mensaje'].apply(analizar_sentimiento)\n",
    "\n",
    "# Mostrar los primeros resultados\n",
    "print(df_respuestas[['Mensaje', 'Sentimiento']].head(10))"
   ]
  },
  {
   "cell_type": "code",
   "execution_count": 291,
   "metadata": {},
   "outputs": [
    {
     "name": "stdout",
     "output_type": "stream",
     "text": [
      "\n",
      "=== Porcentaje de sentimientos ===\n",
      "Sentimiento\n",
      "Positivo    56.626506\n",
      "Negativo    32.530120\n",
      "Neutral     10.843373\n",
      "Name: proportion, dtype: float64\n"
     ]
    }
   ],
   "source": [
    "# Reemplazar etiquetas para agrupar categorías\n",
    "df_respuestas['Sentimiento'] = df_respuestas['Sentimiento'].replace({\n",
    "    \"Muy Positivo\": \"Positivo\",\n",
    "    \"Muy Negativo\": \"Negativo\"\n",
    "})\n",
    "\n",
    "porcentaje_sentimientos = df_respuestas['Sentimiento'].value_counts(\n",
    "    normalize=True) * 100\n",
    "\n",
    "\n",
    "print(\"\\n=== Porcentaje de sentimientos ===\")\n",
    "print(porcentaje_sentimientos)"
   ]
  },
  {
   "cell_type": "code",
   "execution_count": 295,
   "metadata": {},
   "outputs": [
    {
     "data": {
      "image/png": "[encoded data removed]",
      "text/plain": [
       "<Figure size 700x700 with 1 Axes>"
      ]
     },
     "metadata": {},
     "output_type": "display_data"
    }
   ],
   "source": [
    "# Definir colores para cada sentimiento\n",
    "colores = {\n",
    "    \"Positivo\": \"green\",\n",
    "    \"Negativo\": \"red\",\n",
    "    \"Neutral\": \"gray\"\n",
    "}\n",
    "\n",
    "# Crear gráfico de pastel\n",
    "plt.figure(figsize=(7,7))\n",
    "plt.pie(\n",
    "    porcentaje_sentimientos, \n",
    "    labels=porcentaje_sentimientos.index, \n",
    "    autopct='%1.1f%%', \n",
    "    colors=[colores[label] for label in porcentaje_sentimientos.index], \n",
    "    startangle=140, \n",
    "    wedgeprops={\"edgecolor\": \"black\"}\n",
    ")\n",
    "\n",
    "# Título del gráfico\n",
    "plt.title(\"Rumbo de conversaciones\")\n",
    "\n",
    "# Mostrar gráfico\n",
    "plt.show()"
   ]
  },
  {
   "cell_type": "code",
   "execution_count": null,
   "metadata": {},
   "outputs": [],
   "source": []
  }
 ],
 "metadata": {
  "kernelspec": {
   "display_name": "venv",
   "language": "python",
   "name": "python3"
  },
  "language_info": {
   "codemirror_mode": {
    "name": "ipython",
    "version": 3
   },
   "file_extension": ".py",
   "mimetype": "text/x-python",
   "name": "python",
   "nbconvert_exporter": "python",
   "pygments_lexer": "ipython3",
   "version": "3.10.16"
  }
 },
 "nbformat": 4,
 "nbformat_minor": 2
}
