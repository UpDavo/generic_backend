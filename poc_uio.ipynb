{
 "cells": [
  {
   "cell_type": "code",
   "execution_count": 60,
   "metadata": {},
   "outputs": [],
   "source": [
    "import re\n",
    "import pandas as pd\n",
    "from datetime import datetime\n",
    "from transformers import pipeline\n",
    "import matplotlib.pyplot as plt"
   ]
  },
  {
   "cell_type": "code",
   "execution_count": 61,
   "metadata": {},
   "outputs": [],
   "source": [
    "POC_NAME = \"+593 96 239 8472\""
   ]
  },
  {
   "cell_type": "code",
   "execution_count": 62,
   "metadata": {},
   "outputs": [],
   "source": [
    "ruta_archivo = './chats/sangolqui.txt'"
   ]
  },
  {
   "cell_type": "code",
   "execution_count": 63,
   "metadata": {},
   "outputs": [],
   "source": [
    "patron_linea = re.compile(\n",
    "    r'^(\\d{1,2}/\\d{1,2}/\\d{4}), (\\d{1,2}:\\d{2}) - (.*?): (.*)$'\n",
    ")"
   ]
  },
  {
   "cell_type": "code",
   "execution_count": 64,
   "metadata": {},
   "outputs": [],
   "source": [
    "datos = []\n",
    "ultima_fecha = None\n",
    "ultima_hora = None\n",
    "ultima_persona = None\n",
    "ultimo_mensaje = []"
   ]
  },
  {
   "cell_type": "code",
   "execution_count": 65,
   "metadata": {},
   "outputs": [],
   "source": [
    "with open(ruta_archivo, 'r', encoding='utf-8') as f:\n",
    "    for linea in f:\n",
    "        linea = linea.strip()\n",
    "\n",
    "        match = patron_linea.match(linea)\n",
    "        if match:\n",
    "            # Si hay un mensaje anterior sin cerrar, lo guardamos\n",
    "            if ultima_fecha and ultima_persona is not None:\n",
    "                datos.append([\n",
    "                    ultima_fecha,\n",
    "                    ultima_hora,\n",
    "                    ultima_persona,\n",
    "                    \"\\n\".join(ultimo_mensaje)\n",
    "                ])\n",
    "\n",
    "            # Extraemos datos de la nueva línea\n",
    "            fecha_str = match.group(1)  # \"DD/MM/YYYY\"\n",
    "            hora_str = match.group(2)  # \"HH:MM\"\n",
    "            persona = match.group(3)\n",
    "            mensaje = match.group(4)\n",
    "\n",
    "            # Convertimos a datetime\n",
    "            try:\n",
    "                fecha_hora = datetime.strptime(\n",
    "                    f\"{fecha_str} {hora_str}\",\n",
    "                    \"%d/%m/%Y %H:%M\"\n",
    "                )\n",
    "            except ValueError:\n",
    "                # Si falla el parseo, podemos ignorar la línea o manejarla\n",
    "                continue\n",
    "\n",
    "            # Guardamos temporalmente para multiline\n",
    "            ultima_fecha = fecha_hora.date()\n",
    "            ultima_hora = fecha_hora.time()\n",
    "            ultima_persona = persona\n",
    "            ultimo_mensaje = [mensaje]\n",
    "\n",
    "        else:\n",
    "            # Es la continuación (siguiente línea) del mensaje anterior\n",
    "            if ultima_persona is not None:\n",
    "                ultimo_mensaje.append(linea)\n",
    "\n",
    "# Agregamos el último mensaje si quedó pendiente\n",
    "if ultima_fecha and ultima_persona is not None:\n",
    "    datos.append([\n",
    "        ultima_fecha,\n",
    "        ultima_hora,\n",
    "        ultima_persona,\n",
    "        \"\\n\".join(ultimo_mensaje)\n",
    "    ])"
   ]
  },
  {
   "cell_type": "code",
   "execution_count": 66,
   "metadata": {},
   "outputs": [],
   "source": [
    "# ==========================================================================\n",
    "# 2. Construir DataFrame completo de todos los chats\n",
    "# ==========================================================================\n",
    "df_chats = pd.DataFrame(datos, columns=['Fecha', 'Hora', 'Persona', 'Mensaje'])\n",
    "\n",
    "# Creamos una columna de tipo datetime completa\n",
    "df_chats['FechaHora'] = df_chats.apply(\n",
    "    lambda x: datetime.combine(x['Fecha'], x['Hora']), axis=1\n",
    ")\n",
    "\n",
    "# Ordenamos el DataFrame por fecha-hora por si no viniese ordenado\n",
    "df_chats.sort_values(by='FechaHora', inplace=True, ignore_index=True)"
   ]
  },
  {
   "cell_type": "code",
   "execution_count": 67,
   "metadata": {},
   "outputs": [],
   "source": [
    "# ==========================================================================\n",
    "# 3. DataFrame con integrantes únicos (df_integrantes)\n",
    "# ==========================================================================\n",
    "integrantes_unicos = df_chats['Persona'].unique().tolist()\n",
    "df_integrantes = pd.DataFrame({'Integrante': integrantes_unicos})"
   ]
  },
  {
   "cell_type": "code",
   "execution_count": 68,
   "metadata": {},
   "outputs": [],
   "source": [
    "# ==========================================================================\n",
    "# 4. Identificación de asesores\n",
    "# ==========================================================================\n",
    "# Paso 1: Detectar usuarios que enviaron la frase clave\n",
    "asesores = df_chats[df_chats['Mensaje'].str.contains(\n",
    "    \"Me pongo a sus órdenes\", case=False, na=False\n",
    ")]['Persona'].unique()\n",
    "\n",
    "# Paso 2: Crear una nueva columna `EsAsesor`\n",
    "df_chats['EsAsesor'] = df_chats['Persona'].isin(asesores)"
   ]
  },
  {
   "cell_type": "code",
   "execution_count": 69,
   "metadata": {},
   "outputs": [],
   "source": [
    "# ==========================================================================\n",
    "# 5. DataFrame con chats filtrados (df_chats_filtrados)\n",
    "#    Reglas:\n",
    "#      - Incluir tienda.\n",
    "#      - Incluir asesores en todos sus mensajes.\n",
    "#      - Excluir el resto.\n",
    "# ==========================================================================\n",
    "def es_tienda(row):\n",
    "    return POC_NAME in row['Persona'].upper()\n",
    "\n",
    "# Función para reemplazar el nombre si es tienda\n",
    "\n",
    "\n",
    "def cambiar_nombre_tienda(row):\n",
    "    return \"TIENDA\" if POC_NAME in row['Persona'].upper() else row['Persona']\n",
    "\n",
    "\n",
    "# Filtro de tienda o asesores\n",
    "df_chats_filtrados = df_chats[df_chats.apply(\n",
    "    lambda x: es_tienda(x) or x['EsAsesor'], axis=1\n",
    ")].copy()\n",
    "\n",
    "df_chats_filtrados['Persona'] = df_chats_filtrados.apply(\n",
    "    cambiar_nombre_tienda, axis=1)\n",
    "\n",
    "# ==========================================================================\n",
    "# 6. Eliminar filas con \"Multimedia omitido\"\n",
    "# ==========================================================================\n",
    "df_chats_filtrados = df_chats_filtrados[df_chats_filtrados['Mensaje']\n",
    "                                        != \"<Multimedia omitido>\"].copy()\n",
    "\n",
    "# ==========================================================================\n",
    "# 7. Eliminar filas que contengan \"Me pongo a sus órdenes\"\n",
    "# ==========================================================================\n",
    "# df_chats_filtrados = df_chats_filtrados[\n",
    "#     ~df_chats_filtrados['Mensaje'].str.contains(\n",
    "#         \"Me pongo a sus órdenes\", case=False, na=False)\n",
    "# ].copy()\n",
    "\n",
    "# df_chats_filtrados = df_chats_filtrados[\n",
    "#     ~df_chats_filtrados['Mensaje'].str.contains(\n",
    "#         \"estoy para apoyarlos\", case=False, na=False)\n",
    "# ].copy()\n"
   ]
  },
  {
   "cell_type": "code",
   "execution_count": 70,
   "metadata": {},
   "outputs": [
    {
     "name": "stdout",
     "output_type": "stream",
     "text": [
      "\n",
      "=== DataFrame con chats FILTRADOS ===\n"
     ]
    },
    {
     "data": {
      "text/html": [
       "<div>\n",
       "<style scoped>\n",
       "    .dataframe tbody tr th:only-of-type {\n",
       "        vertical-align: middle;\n",
       "    }\n",
       "\n",
       "    .dataframe tbody tr th {\n",
       "        vertical-align: top;\n",
       "    }\n",
       "\n",
       "    .dataframe thead th {\n",
       "        text-align: right;\n",
       "    }\n",
       "</style>\n",
       "<table border=\"1\" class=\"dataframe\">\n",
       "  <thead>\n",
       "    <tr style=\"text-align: right;\">\n",
       "      <th></th>\n",
       "      <th>Fecha</th>\n",
       "      <th>Hora</th>\n",
       "      <th>Persona</th>\n",
       "      <th>Mensaje</th>\n",
       "      <th>FechaHora</th>\n",
       "      <th>EsAsesor</th>\n",
       "    </tr>\n",
       "  </thead>\n",
       "  <tbody>\n",
       "    <tr>\n",
       "      <th>0</th>\n",
       "      <td>2024-04-22</td>\n",
       "      <td>15:27:00</td>\n",
       "      <td>Ulises Hernandez Cxc</td>\n",
       "      <td>Hola, bonito día  Team, soy Ulises\\nMe pongo a...</td>\n",
       "      <td>2024-04-22 15:27:00</td>\n",
       "      <td>True</td>\n",
       "    </tr>\n",
       "    <tr>\n",
       "      <th>1</th>\n",
       "      <td>2024-04-23</td>\n",
       "      <td>10:23:00</td>\n",
       "      <td>+52 449 581 7854</td>\n",
       "      <td>Team buen día, Soy Paulina.\\nMe pongo a sus ór...</td>\n",
       "      <td>2024-04-23 10:23:00</td>\n",
       "      <td>True</td>\n",
       "    </tr>\n",
       "    <tr>\n",
       "      <th>2</th>\n",
       "      <td>2024-04-23</td>\n",
       "      <td>15:30:00</td>\n",
       "      <td>Jocelyne Tada Cxc</td>\n",
       "      <td>Hola, bonito día  Team, soy Jocelyne\\nMe pongo...</td>\n",
       "      <td>2024-04-23 15:30:00</td>\n",
       "      <td>True</td>\n",
       "    </tr>\n",
       "    <tr>\n",
       "      <th>16</th>\n",
       "      <td>2024-04-24</td>\n",
       "      <td>09:39:00</td>\n",
       "      <td>Jocelyne Tada Cxc</td>\n",
       "      <td>Hola, bonito día  Team, soy Jocelyne\\nMe pongo...</td>\n",
       "      <td>2024-04-24 09:39:00</td>\n",
       "      <td>True</td>\n",
       "    </tr>\n",
       "  </tbody>\n",
       "</table>\n",
       "</div>"
      ],
      "text/plain": [
       "         Fecha      Hora               Persona  \\\n",
       "0   2024-04-22  15:27:00  Ulises Hernandez Cxc   \n",
       "1   2024-04-23  10:23:00      +52 449 581 7854   \n",
       "2   2024-04-23  15:30:00     Jocelyne Tada Cxc   \n",
       "16  2024-04-24  09:39:00     Jocelyne Tada Cxc   \n",
       "\n",
       "                                              Mensaje           FechaHora  \\\n",
       "0   Hola, bonito día  Team, soy Ulises\\nMe pongo a... 2024-04-22 15:27:00   \n",
       "1   Team buen día, Soy Paulina.\\nMe pongo a sus ór... 2024-04-23 10:23:00   \n",
       "2   Hola, bonito día  Team, soy Jocelyne\\nMe pongo... 2024-04-23 15:30:00   \n",
       "16  Hola, bonito día  Team, soy Jocelyne\\nMe pongo... 2024-04-24 09:39:00   \n",
       "\n",
       "    EsAsesor  \n",
       "0       True  \n",
       "1       True  \n",
       "2       True  \n",
       "16      True  "
      ]
     },
     "execution_count": 70,
     "metadata": {},
     "output_type": "execute_result"
    }
   ],
   "source": [
    "print(\"\\n=== DataFrame con chats FILTRADOS ===\")\n",
    "df_chats_filtrados.head(4)"
   ]
  },
  {
   "cell_type": "markdown",
   "metadata": {},
   "source": [
    "# Analisis\n"
   ]
  },
  {
   "cell_type": "code",
   "execution_count": 71,
   "metadata": {},
   "outputs": [],
   "source": [
    "fecha_inicio = \"2024-10-01\"\n",
    "fecha_fin = \"2024-10-31\"\n",
    "\n",
    "df_chats_filtrados = df_chats_filtrados[\n",
    "    (df_chats_filtrados['FechaHora'] >= fecha_inicio) &\n",
    "    (df_chats_filtrados['FechaHora'] <= fecha_fin)\n",
    "]"
   ]
  },
  {
   "cell_type": "code",
   "execution_count": 72,
   "metadata": {},
   "outputs": [],
   "source": [
    "# 1) Ordenamos por fecha-hora por si acaso (ya lo hacías, pero aseguramos aquí)\n",
    "df_chats_filtrados.sort_values(by='FechaHora', inplace=True, ignore_index=True)"
   ]
  },
  {
   "cell_type": "code",
   "execution_count": 73,
   "metadata": {},
   "outputs": [],
   "source": [
    "# 2) “Desplazamos” (shift) para ver el mensaje siguiente\n",
    "df_chats_filtrados['NextPersona'] = df_chats_filtrados['Persona'].shift(-1)\n",
    "df_chats_filtrados['NextFechaHora'] = df_chats_filtrados['FechaHora'].shift(-1)\n",
    "df_chats_filtrados['NextMensaje'] = df_chats_filtrados['Mensaje'].shift(-1)"
   ]
  },
  {
   "cell_type": "code",
   "execution_count": 74,
   "metadata": {},
   "outputs": [],
   "source": [
    "# 3) Filtramos solo los casos:\n",
    "#    - el mensaje actual es de Asesor\n",
    "#    - el siguiente mensaje es de la Tienda\n",
    "mask_asesor_tienda = (\n",
    "    (df_chats_filtrados['EsAsesor'] == True) &\n",
    "    (df_chats_filtrados['NextPersona'].str.upper(\n",
    "    ).str.contains(\"TIENDA\"))\n",
    ")\n",
    "\n",
    "df_respuestas = df_chats_filtrados[mask_asesor_tienda].copy()"
   ]
  },
  {
   "cell_type": "code",
   "execution_count": 75,
   "metadata": {},
   "outputs": [],
   "source": [
    "# 4) Calculamos la diferencia de tiempo en minutos\n",
    "df_respuestas['TiempoRespuestaMin'] = (\n",
    "    df_respuestas['NextFechaHora'] - df_respuestas['FechaHora']\n",
    ").dt.total_seconds() / 60.0"
   ]
  },
  {
   "cell_type": "code",
   "execution_count": 76,
   "metadata": {},
   "outputs": [],
   "source": [
    "# 5) Definimos una función para puntuar de 0 a 100\n",
    "def calcular_puntaje(minutos):\n",
    "    \"\"\"\n",
    "    Ejemplo de escala de tiempos:\n",
    "      - < 5 min => 100\n",
    "      - < 15 min => 80\n",
    "      - < 30 min => 50\n",
    "      - < 60 min => 30\n",
    "      - >= 60 min => 0\n",
    "    \"\"\"\n",
    "    if minutos < 5:\n",
    "        return 100\n",
    "    elif minutos < 15:\n",
    "        return 80\n",
    "    elif minutos < 30:\n",
    "        return 50\n",
    "    elif minutos < 60:\n",
    "        return 30\n",
    "    else:\n",
    "        return 0\n",
    "\n",
    "\n",
    "df_respuestas['Puntaje'] = df_respuestas['TiempoRespuestaMin'].apply(\n",
    "    calcular_puntaje)"
   ]
  },
  {
   "cell_type": "code",
   "execution_count": 77,
   "metadata": {},
   "outputs": [
    {
     "data": {
      "text/html": [
       "<div>\n",
       "<style scoped>\n",
       "    .dataframe tbody tr th:only-of-type {\n",
       "        vertical-align: middle;\n",
       "    }\n",
       "\n",
       "    .dataframe tbody tr th {\n",
       "        vertical-align: top;\n",
       "    }\n",
       "\n",
       "    .dataframe thead th {\n",
       "        text-align: right;\n",
       "    }\n",
       "</style>\n",
       "<table border=\"1\" class=\"dataframe\">\n",
       "  <thead>\n",
       "    <tr style=\"text-align: right;\">\n",
       "      <th></th>\n",
       "      <th>Fecha</th>\n",
       "      <th>Hora</th>\n",
       "      <th>Persona</th>\n",
       "      <th>Mensaje</th>\n",
       "      <th>FechaHora</th>\n",
       "      <th>EsAsesor</th>\n",
       "      <th>NextPersona</th>\n",
       "      <th>NextFechaHora</th>\n",
       "      <th>NextMensaje</th>\n",
       "      <th>TiempoRespuestaMin</th>\n",
       "      <th>Puntaje</th>\n",
       "    </tr>\n",
       "  </thead>\n",
       "  <tbody>\n",
       "    <tr>\n",
       "      <th>9</th>\n",
       "      <td>2024-10-05</td>\n",
       "      <td>16:52:00</td>\n",
       "      <td>Ulises Hernandez Cxc</td>\n",
       "      <td>|Hola, bonito día  Team, soy Ulises\\nMe pongo ...</td>\n",
       "      <td>2024-10-05 16:52:00</td>\n",
       "      <td>True</td>\n",
       "      <td>TIENDA</td>\n",
       "      <td>2024-10-05 22:21:00</td>\n",
       "      <td>se cancela el pedido el cliente no contesta</td>\n",
       "      <td>329.0</td>\n",
       "      <td>0</td>\n",
       "    </tr>\n",
       "    <tr>\n",
       "      <th>14</th>\n",
       "      <td>2024-10-05</td>\n",
       "      <td>22:57:00</td>\n",
       "      <td>Ulises Hernandez Cxc</td>\n",
       "      <td>Correo</td>\n",
       "      <td>2024-10-05 22:57:00</td>\n",
       "      <td>True</td>\n",
       "      <td>TIENDA</td>\n",
       "      <td>2024-10-05 22:59:00</td>\n",
       "      <td>Se eliminó este mensaje.</td>\n",
       "      <td>2.0</td>\n",
       "      <td>100</td>\n",
       "    </tr>\n",
       "    <tr>\n",
       "      <th>19</th>\n",
       "      <td>2024-10-05</td>\n",
       "      <td>23:25:00</td>\n",
       "      <td>Ulises Hernandez Cxc</td>\n",
       "      <td>Ok</td>\n",
       "      <td>2024-10-05 23:25:00</td>\n",
       "      <td>True</td>\n",
       "      <td>TIENDA</td>\n",
       "      <td>2024-10-05 23:27:00</td>\n",
       "      <td>EC3T5V9OU\\nkritochiva24@hotmail.es</td>\n",
       "      <td>2.0</td>\n",
       "      <td>100</td>\n",
       "    </tr>\n",
       "    <tr>\n",
       "      <th>23</th>\n",
       "      <td>2024-10-05</td>\n",
       "      <td>23:28:00</td>\n",
       "      <td>Ulises Hernandez Cxc</td>\n",
       "      <td>Ok</td>\n",
       "      <td>2024-10-05 23:28:00</td>\n",
       "      <td>True</td>\n",
       "      <td>TIENDA</td>\n",
       "      <td>2024-10-05 23:47:00</td>\n",
       "      <td>Pedido por\\nLisbeth\\n+593998138523\\n4CR28CS32\\...</td>\n",
       "      <td>19.0</td>\n",
       "      <td>50</td>\n",
       "    </tr>\n",
       "  </tbody>\n",
       "</table>\n",
       "</div>"
      ],
      "text/plain": [
       "         Fecha      Hora               Persona  \\\n",
       "9   2024-10-05  16:52:00  Ulises Hernandez Cxc   \n",
       "14  2024-10-05  22:57:00  Ulises Hernandez Cxc   \n",
       "19  2024-10-05  23:25:00  Ulises Hernandez Cxc   \n",
       "23  2024-10-05  23:28:00  Ulises Hernandez Cxc   \n",
       "\n",
       "                                              Mensaje           FechaHora  \\\n",
       "9   |Hola, bonito día  Team, soy Ulises\\nMe pongo ... 2024-10-05 16:52:00   \n",
       "14                                             Correo 2024-10-05 22:57:00   \n",
       "19                                                 Ok 2024-10-05 23:25:00   \n",
       "23                                                 Ok 2024-10-05 23:28:00   \n",
       "\n",
       "    EsAsesor NextPersona       NextFechaHora  \\\n",
       "9       True      TIENDA 2024-10-05 22:21:00   \n",
       "14      True      TIENDA 2024-10-05 22:59:00   \n",
       "19      True      TIENDA 2024-10-05 23:27:00   \n",
       "23      True      TIENDA 2024-10-05 23:47:00   \n",
       "\n",
       "                                          NextMensaje  TiempoRespuestaMin  \\\n",
       "9         se cancela el pedido el cliente no contesta               329.0   \n",
       "14                           Se eliminó este mensaje.                 2.0   \n",
       "19                 EC3T5V9OU\\nkritochiva24@hotmail.es                 2.0   \n",
       "23  Pedido por\\nLisbeth\\n+593998138523\\n4CR28CS32\\...                19.0   \n",
       "\n",
       "    Puntaje  \n",
       "9         0  \n",
       "14      100  \n",
       "19      100  \n",
       "23       50  "
      ]
     },
     "execution_count": 77,
     "metadata": {},
     "output_type": "execute_result"
    }
   ],
   "source": [
    "df_respuestas.head(4)"
   ]
  },
  {
   "cell_type": "code",
   "execution_count": 78,
   "metadata": {},
   "outputs": [],
   "source": [
    "def formatear_tiempo_en_horas_minutos(minutos):\n",
    "    \"\"\"\n",
    "    Convierte un valor de 'minutos' (float o int) al formato 'Hh:Mm'.\n",
    "    Ejemplo: 90.0 -> '1h:30m'\n",
    "    \"\"\"\n",
    "    # Para manejar correctamente decimales, convertimos a segundos\n",
    "    total_segundos = int(minutos * 60)\n",
    "    horas = total_segundos // 3600\n",
    "    sobrante_segundos = total_segundos % 3600\n",
    "    mins = sobrante_segundos // 60\n",
    "\n",
    "    return f\"{horas}h:{mins}m\""
   ]
  },
  {
   "cell_type": "code",
   "execution_count": 79,
   "metadata": {},
   "outputs": [],
   "source": [
    "# Ejemplo de datos calculados (suponiendo df_respuestas ya construido)\n",
    "tiempo_promedio = df_respuestas['TiempoRespuestaMin'].mean()  # float (en min)\n",
    "tiempo_total = df_respuestas['TiempoRespuestaMin'].sum()      # float (en min)\n",
    "puntaje_promedio = df_respuestas['Puntaje'].mean()            # float (0-100)"
   ]
  },
  {
   "cell_type": "markdown",
   "metadata": {},
   "source": [
    "# Sentimiento"
   ]
  },
  {
   "cell_type": "code",
   "execution_count": 80,
   "metadata": {},
   "outputs": [
    {
     "name": "stderr",
     "output_type": "stream",
     "text": [
      "Device set to use mps:0\n"
     ]
    }
   ],
   "source": [
    "# Cargar el modelo de análisis de sentimiento en español (multilingüe)\n",
    "modelo_sentimiento = pipeline(\"sentiment-analysis\", model=\"nlptown/bert-base-multilingual-uncased-sentiment\")"
   ]
  },
  {
   "cell_type": "code",
   "execution_count": 81,
   "metadata": {},
   "outputs": [],
   "source": [
    "\n",
    "# Función para clasificar el tono del mensaje\n",
    "def analizar_sentimiento(texto):\n",
    "    \"\"\"\n",
    "    Analiza el sentimiento de la respuesta de la tienda y devuelve una etiqueta textual.\n",
    "    \"\"\"\n",
    "    if not isinstance(texto, str) or not texto.strip():\n",
    "        return \"Neutral\"  # Si el mensaje está vacío\n",
    "\n",
    "    resultado = modelo_sentimiento(texto)[0]  # Obtener resultado del modelo\n",
    "    estrellas = int(resultado['label'][0])  # Extraer la cantidad de estrellas (1-5)\n",
    "\n",
    "    # Convertimos la cantidad de estrellas a etiquetas de sentimiento\n",
    "    if estrellas == 1:\n",
    "        return \"Muy Negativo\"\n",
    "    elif estrellas == 2:\n",
    "        return \"Negativo\"\n",
    "    elif estrellas == 3:\n",
    "        return \"Neutral\"\n",
    "    elif estrellas == 4:\n",
    "        return \"Positivo\"\n",
    "    elif estrellas == 5:\n",
    "        return \"Muy Positivo\""
   ]
  },
  {
   "cell_type": "code",
   "execution_count": 82,
   "metadata": {},
   "outputs": [
    {
     "name": "stdout",
     "output_type": "stream",
     "text": [
      "                                              Mensaje   Sentimiento\n",
      "9   |Hola, bonito día  Team, soy Ulises\\nMe pongo ...  Muy Positivo\n",
      "14                                             Correo  Muy Positivo\n",
      "19                                                 Ok       Neutral\n",
      "23                                                 Ok       Neutral\n",
      "28                                            Directo  Muy Positivo\n",
      "30  Hola, bonito día  Team, soy Jazmyn\\nMe pongo a...      Positivo\n",
      "40  Hola, bonito día  Team, soy Flor, me pongo a s...  Muy Positivo\n",
      "47                           Se eliminó este mensaje.  Muy Negativo\n",
      "49                                                 Ok       Neutral\n",
      "54  Hola, bonito día  Team, soy Flor, me pongo a s...      Positivo\n"
     ]
    }
   ],
   "source": [
    "# Aplicar la función a la columna 'Mensaje' del DataFrame df_respuestas\n",
    "df_respuestas['Sentimiento'] = df_respuestas['Mensaje'].apply(analizar_sentimiento)\n",
    "\n",
    "# Mostrar los primeros resultados\n",
    "print(df_respuestas[['Mensaje', 'Sentimiento']].head(10))"
   ]
  },
  {
   "cell_type": "code",
   "execution_count": 83,
   "metadata": {},
   "outputs": [
    {
     "name": "stdout",
     "output_type": "stream",
     "text": [
      "\n",
      "=== Porcentaje de sentimientos ===\n",
      "Sentimiento\n",
      "Positivo    53.086420\n",
      "Negativo    28.395062\n",
      "Neutral     18.518519\n",
      "Name: proportion, dtype: float64\n"
     ]
    }
   ],
   "source": [
    "# Reemplazar etiquetas para agrupar categorías\n",
    "df_respuestas['Sentimiento'] = df_respuestas['Sentimiento'].replace({\n",
    "    \"Muy Positivo\": \"Positivo\",\n",
    "    \"Muy Negativo\": \"Negativo\"\n",
    "})\n",
    "\n",
    "porcentaje_sentimientos = df_respuestas['Sentimiento'].value_counts(\n",
    "    normalize=True) * 100\n",
    "\n",
    "\n",
    "print(\"\\n=== Porcentaje de sentimientos ===\")\n",
    "print(porcentaje_sentimientos)"
   ]
  },
  {
   "cell_type": "code",
   "execution_count": 84,
   "metadata": {},
   "outputs": [
    {
     "data": {
      "image/png": "[encoded data removed]",
      "text/plain": [
       "<Figure size 700x700 with 1 Axes>"
      ]
     },
     "metadata": {},
     "output_type": "display_data"
    }
   ],
   "source": [
    "# Definir colores para cada sentimiento\n",
    "colores = {\n",
    "    \"Positivo\": \"green\",\n",
    "    \"Negativo\": \"red\",\n",
    "    \"Neutral\": \"gray\"\n",
    "}\n",
    "\n",
    "# Crear gráfico de pastel\n",
    "plt.figure(figsize=(7,7))\n",
    "plt.pie(\n",
    "    porcentaje_sentimientos, \n",
    "    labels=porcentaje_sentimientos.index, \n",
    "    autopct='%1.1f%%', \n",
    "    colors=[colores[label] for label in porcentaje_sentimientos.index], \n",
    "    startangle=140, \n",
    "    wedgeprops={\"edgecolor\": \"black\"}\n",
    ")\n",
    "\n",
    "# Título del gráfico\n",
    "plt.title(\"Rumbo de conversaciones\")\n",
    "\n",
    "# Mostrar gráfico\n",
    "plt.show()"
   ]
  },
  {
   "cell_type": "code",
   "execution_count": 85,
   "metadata": {},
   "outputs": [
    {
     "name": "stdout",
     "output_type": "stream",
     "text": [
      "Tiempo de respuesta promedio: 1h:1m\n",
      "Tiempo mensual consumido por falta de apoyo: 11.41%\n",
      "Puntaje promedio: 63.46\n"
     ]
    }
   ],
   "source": [
    "# Formateo\n",
    "print(\"Tiempo de respuesta promedio:\",\n",
    "      formatear_tiempo_en_horas_minutos(tiempo_promedio))\n",
    "print(\"Tiempo mensual consumido por falta de apoyo:\",\n",
    "      f\"{round((tiempo_total/43800)*100, 2)}%\")\n",
    "print(\"Puntaje promedio:\", round(puntaje_promedio, 2))"
   ]
  }
 ],
 "metadata": {
  "kernelspec": {
   "display_name": "venv",
   "language": "python",
   "name": "python3"
  },
  "language_info": {
   "codemirror_mode": {
    "name": "ipython",
    "version": 3
   },
   "file_extension": ".py",
   "mimetype": "text/x-python",
   "name": "python",
   "nbconvert_exporter": "python",
   "pygments_lexer": "ipython3",
   "version": "3.13.1"
  }
 },
 "nbformat": 4,
 "nbformat_minor": 2
}
